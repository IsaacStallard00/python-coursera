{
 "cells": [
  {
   "cell_type": "code",
   "execution_count": 11,
   "metadata": {},
   "outputs": [
    {
     "name": "stdout",
     "output_type": "stream",
     "text": [
      "Requirement already satisfied: dash in /Library/Frameworks/Python.framework/Versions/3.12/lib/python3.12/site-packages (2.15.0)\n",
      "Requirement already satisfied: Flask<3.1,>=1.0.4 in /Library/Frameworks/Python.framework/Versions/3.12/lib/python3.12/site-packages (from dash) (3.0.2)\n",
      "Requirement already satisfied: Werkzeug<3.1 in /Library/Frameworks/Python.framework/Versions/3.12/lib/python3.12/site-packages (from dash) (3.0.1)\n",
      "Requirement already satisfied: plotly>=5.0.0 in /Library/Frameworks/Python.framework/Versions/3.12/lib/python3.12/site-packages (from dash) (5.19.0)\n",
      "Requirement already satisfied: dash-html-components==2.0.0 in /Library/Frameworks/Python.framework/Versions/3.12/lib/python3.12/site-packages (from dash) (2.0.0)\n",
      "Requirement already satisfied: dash-core-components==2.0.0 in /Library/Frameworks/Python.framework/Versions/3.12/lib/python3.12/site-packages (from dash) (2.0.0)\n",
      "Requirement already satisfied: dash-table==5.0.0 in /Library/Frameworks/Python.framework/Versions/3.12/lib/python3.12/site-packages (from dash) (5.0.0)\n",
      "Requirement already satisfied: typing-extensions>=4.1.1 in /Library/Frameworks/Python.framework/Versions/3.12/lib/python3.12/site-packages (from dash) (4.9.0)\n",
      "Requirement already satisfied: requests in /Library/Frameworks/Python.framework/Versions/3.12/lib/python3.12/site-packages (from dash) (2.31.0)\n",
      "Requirement already satisfied: retrying in /Library/Frameworks/Python.framework/Versions/3.12/lib/python3.12/site-packages (from dash) (1.3.4)\n",
      "Requirement already satisfied: nest-asyncio in /Users/isaacstallard/Library/Python/3.12/lib/python/site-packages (from dash) (1.6.0)\n",
      "Requirement already satisfied: setuptools in /Library/Frameworks/Python.framework/Versions/3.12/lib/python3.12/site-packages (from dash) (69.1.0)\n",
      "Requirement already satisfied: importlib-metadata in /Library/Frameworks/Python.framework/Versions/3.12/lib/python3.12/site-packages (from dash) (7.0.1)\n",
      "Requirement already satisfied: Jinja2>=3.1.2 in /Library/Frameworks/Python.framework/Versions/3.12/lib/python3.12/site-packages (from Flask<3.1,>=1.0.4->dash) (3.1.3)\n",
      "Requirement already satisfied: itsdangerous>=2.1.2 in /Library/Frameworks/Python.framework/Versions/3.12/lib/python3.12/site-packages (from Flask<3.1,>=1.0.4->dash) (2.1.2)\n",
      "Requirement already satisfied: click>=8.1.3 in /Library/Frameworks/Python.framework/Versions/3.12/lib/python3.12/site-packages (from Flask<3.1,>=1.0.4->dash) (8.1.7)\n",
      "Requirement already satisfied: blinker>=1.6.2 in /Library/Frameworks/Python.framework/Versions/3.12/lib/python3.12/site-packages (from Flask<3.1,>=1.0.4->dash) (1.7.0)\n",
      "Requirement already satisfied: tenacity>=6.2.0 in /Library/Frameworks/Python.framework/Versions/3.12/lib/python3.12/site-packages (from plotly>=5.0.0->dash) (8.2.3)\n",
      "Requirement already satisfied: packaging in /Users/isaacstallard/Library/Python/3.12/lib/python/site-packages (from plotly>=5.0.0->dash) (23.2)\n",
      "Requirement already satisfied: MarkupSafe>=2.1.1 in /Library/Frameworks/Python.framework/Versions/3.12/lib/python3.12/site-packages (from Werkzeug<3.1->dash) (2.1.5)\n",
      "Requirement already satisfied: zipp>=0.5 in /Library/Frameworks/Python.framework/Versions/3.12/lib/python3.12/site-packages (from importlib-metadata->dash) (3.17.0)\n",
      "Requirement already satisfied: charset-normalizer<4,>=2 in /Library/Frameworks/Python.framework/Versions/3.12/lib/python3.12/site-packages (from requests->dash) (3.3.2)\n",
      "Requirement already satisfied: idna<4,>=2.5 in /Library/Frameworks/Python.framework/Versions/3.12/lib/python3.12/site-packages (from requests->dash) (3.6)\n",
      "Requirement already satisfied: urllib3<3,>=1.21.1 in /Library/Frameworks/Python.framework/Versions/3.12/lib/python3.12/site-packages (from requests->dash) (2.2.1)\n",
      "Requirement already satisfied: certifi>=2017.4.17 in /Library/Frameworks/Python.framework/Versions/3.12/lib/python3.12/site-packages (from requests->dash) (2024.2.2)\n",
      "Requirement already satisfied: six>=1.7.0 in /Users/isaacstallard/Library/Python/3.12/lib/python/site-packages (from retrying->dash) (1.16.0)\n",
      "\n",
      "\u001b[1m[\u001b[0m\u001b[34;49mnotice\u001b[0m\u001b[1;39;49m]\u001b[0m\u001b[39;49m A new release of pip is available: \u001b[0m\u001b[31;49m23.2.1\u001b[0m\u001b[39;49m -> \u001b[0m\u001b[32;49m24.0\u001b[0m\n",
      "\u001b[1m[\u001b[0m\u001b[34;49mnotice\u001b[0m\u001b[1;39;49m]\u001b[0m\u001b[39;49m To update, run: \u001b[0m\u001b[32;49mpip3 install --upgrade pip\u001b[0m\n",
      "Note: you may need to restart the kernel to use updated packages.\n",
      "Requirement already satisfied: pandas in /Library/Frameworks/Python.framework/Versions/3.12/lib/python3.12/site-packages (2.2.0)\n",
      "Requirement already satisfied: numpy<2,>=1.26.0 in /Library/Frameworks/Python.framework/Versions/3.12/lib/python3.12/site-packages (from pandas) (1.26.4)\n",
      "Requirement already satisfied: python-dateutil>=2.8.2 in /Users/isaacstallard/Library/Python/3.12/lib/python/site-packages (from pandas) (2.8.2)\n",
      "Requirement already satisfied: pytz>=2020.1 in /Library/Frameworks/Python.framework/Versions/3.12/lib/python3.12/site-packages (from pandas) (2024.1)\n",
      "Requirement already satisfied: tzdata>=2022.7 in /Library/Frameworks/Python.framework/Versions/3.12/lib/python3.12/site-packages (from pandas) (2024.1)\n",
      "Requirement already satisfied: six>=1.5 in /Users/isaacstallard/Library/Python/3.12/lib/python/site-packages (from python-dateutil>=2.8.2->pandas) (1.16.0)\n",
      "\n",
      "\u001b[1m[\u001b[0m\u001b[34;49mnotice\u001b[0m\u001b[1;39;49m]\u001b[0m\u001b[39;49m A new release of pip is available: \u001b[0m\u001b[31;49m23.2.1\u001b[0m\u001b[39;49m -> \u001b[0m\u001b[32;49m24.0\u001b[0m\n",
      "\u001b[1m[\u001b[0m\u001b[34;49mnotice\u001b[0m\u001b[1;39;49m]\u001b[0m\u001b[39;49m To update, run: \u001b[0m\u001b[32;49mpip3 install --upgrade pip\u001b[0m\n",
      "Note: you may need to restart the kernel to use updated packages.\n",
      "Requirement already satisfied: plotly in /Library/Frameworks/Python.framework/Versions/3.12/lib/python3.12/site-packages (5.19.0)\n",
      "Requirement already satisfied: tenacity>=6.2.0 in /Library/Frameworks/Python.framework/Versions/3.12/lib/python3.12/site-packages (from plotly) (8.2.3)\n",
      "Requirement already satisfied: packaging in /Users/isaacstallard/Library/Python/3.12/lib/python/site-packages (from plotly) (23.2)\n",
      "\n",
      "\u001b[1m[\u001b[0m\u001b[34;49mnotice\u001b[0m\u001b[1;39;49m]\u001b[0m\u001b[39;49m A new release of pip is available: \u001b[0m\u001b[31;49m23.2.1\u001b[0m\u001b[39;49m -> \u001b[0m\u001b[32;49m24.0\u001b[0m\n",
      "\u001b[1m[\u001b[0m\u001b[34;49mnotice\u001b[0m\u001b[1;39;49m]\u001b[0m\u001b[39;49m To update, run: \u001b[0m\u001b[32;49mpip3 install --upgrade pip\u001b[0m\n",
      "Note: you may need to restart the kernel to use updated packages.\n"
     ]
    }
   ],
   "source": [
    "# Install Libraries\n",
    "\n",
    "%pip install dash\n",
    "%pip install pandas\n",
    "%pip install plotly\n"
   ]
  },
  {
   "cell_type": "code",
   "execution_count": 12,
   "metadata": {},
   "outputs": [],
   "source": [
    "# Import Libraries\n",
    "\n",
    "import dash\n",
    "from dash import dcc\n",
    "from dash import html\n",
    "from dash.dependencies import Input, Output\n",
    "import pandas as pd\n",
    "import plotly.graph_objs as go\n",
    "import plotly.express as px"
   ]
  },
  {
   "cell_type": "code",
   "execution_count": 13,
   "metadata": {},
   "outputs": [],
   "source": [
    "# import CSV File\n",
    "\n",
    "import ssl\n",
    "from urllib.request import urlopen\n",
    "\n",
    "# Create an SSL context with certificate verification disabled\n",
    "ssl_context = ssl.create_default_context()\n",
    "ssl_context.check_hostname = False\n",
    "ssl_context.verify_mode = ssl.CERT_NONE\n",
    "\n",
    "# Open the URL using the SSL context\n",
    "with urlopen('https://cf-courses-data.s3.us.cloud-object-storage.appdomain.cloud/IBMDeveloperSkillsNetwork-DV0101EN-SkillsNetwork/Data%20Files/historical_automobile_sales.csv', context=ssl_context) as response:\n",
    "    # Read the CSV data\n",
    "    data = pd.read_csv(response)"
   ]
  },
  {
   "cell_type": "code",
   "execution_count": 14,
   "metadata": {},
   "outputs": [],
   "source": [
    "# Initialize the Dash app\n",
    "app = dash.Dash(__name__)\n",
    "\n",
    "# Task 2.1\n",
    "# Set the title of the dashboard\n",
    "\n",
    "app.layout = html.Div(\n",
    "    html.H1(\"Automobile Sales Statistics Dashboard\", style={'textAlign': 'center', 'color': '#503D36', 'fontSize': 24})\n",
    ")\n",
    "\n",
    "##if __name__ == '__main__':\n",
    "  ##  app.run_server(debug=True)\n"
   ]
  },
  {
   "cell_type": "code",
   "execution_count": 15,
   "metadata": {},
   "outputs": [],
   "source": [
    "# List of years \n",
    "year_list = [i for i in range(1980, 2024, 1)]"
   ]
  },
  {
   "cell_type": "code",
   "execution_count": 16,
   "metadata": {},
   "outputs": [],
   "source": [
    "app.layout = html.Div([\n",
    "    # TASK 2.1 Add title to the dashboard\n",
    "    html.H1(\"Automobile Sales Statistics Dashboard\", style={'textAlign': 'center'}),  # May include style for title\n",
    "    html.Div([  # TASK 2.2: Add two dropdown menus\n",
    "        html.Label(\"Select Statistics:\"),\n",
    "        dcc.Dropdown(\n",
    "            id='dropdown-statistics',\n",
    "            options=[\n",
    "                {'label': 'Yearly Statistics', 'value': 'Yearly Statistics'},\n",
    "                {'label': 'Recession Period Statistics', 'value': 'Recession Period Statistics'}\n",
    "            ],\n",
    "            value='Select Statistics',\n",
    "            placeholder='Select a report type',\n",
    "            style={'width': '80%', 'padding': '3px', 'fontSize': '20px', 'textAlignLast': 'center'},\n",
    "        )\n",
    "    ]),\n",
    "    html.Div([\n",
    "        dcc.Dropdown(\n",
    "            id='select-year',\n",
    "            options=[{'label': i, 'value': i} for i in year_list],\n",
    "            placeholder='Select Year',\n",
    "            style={'width': '80%', 'padding': '3px', 'fontSize': '20px', 'textAlignLast': 'center'},\n",
    "        )\n",
    "    ]),\n",
    "    html.Div([  # TASK 2.3: Add a division for output display\n",
    "        html.Div(id='output-container', className='chart-grid', style={'flex': 1}),\n",
    "    ])\n",
    "])\n"
   ]
  },
  {
   "cell_type": "code",
   "execution_count": 17,
   "metadata": {},
   "outputs": [],
   "source": [
    "# Define the callback function to update the input container based on the selected statistics\n",
    "@app.callback(\n",
    "    Output(component_id='select-year', component_property='disabled'),\n",
    "    Input(component_id='dropdown-statistics', component_property='value')\n",
    ")\n",
    "def update_input_container(selected_statistic):\n",
    "    return False if selected_statistic == 'Yearly Statistics' else True\n",
    "\n",
    "# Define the callback function to update the output container based on the selected statistics\n",
    "@app.callback(\n",
    "    Output(component_id='output-container', component_property='children'),\n",
    "    [Input(component_id='select-year', component_property='value'),\n",
    "     Input(component_id='dropdown-statistics', component_property='value')]\n",
    ")\n",
    "def update_output_container(selected_year, selected_statistic):\n",
    "    if selected_statistic == 'Recession Period Statistics':\n",
    "        # Filter the data for recession periods based on selected year if available\n",
    "        if selected_year is not None:\n",
    "            recession_data = data[(data['Year'] == selected_year) & (data['Recession'] == 1)]\n",
    "        else:\n",
    "            recession_data = data[data['Recession'] == 1]\n",
    "        # Create a table to display filtered data\n",
    "        return html.Table(\n",
    "            # Assuming 'recession_data' is a DataFrame containing filtered data\n",
    "            [html.Tr([html.Th(col) for col in recession_data.columns])] +\n",
    "            [html.Tr([html.Td(recession_data.iloc[i][col]) for col in recession_data.columns])\n",
    "             for i in range(len(recession_data))]\n",
    "        )\n",
    "    else:\n",
    "        return html.Div(\"No data to display\")  # Display a message if no data is available\n"
   ]
  },
  {
   "cell_type": "code",
   "execution_count": 18,
   "metadata": {},
   "outputs": [],
   "source": [
    "# task 2.5\n",
    "# Assuming the function where this code resides has access to recession_data\n",
    "def generate_recession_charts(recession_data):\n",
    "    # Plot 1: Automobile sales fluctuate over Recession Period (year wise) using line chart\n",
    "    yearly_rec = recession_data.groupby('Year')['Automobile_Sales'].mean().reset_index()\n",
    "    R_chart1 = dcc.Graph(\n",
    "        figure=px.line(yearly_rec, \n",
    "                       x='Year',\n",
    "                       y='Automobile_Sales',\n",
    "                       title=\"Average Automobile Sales Fluctuation over Recession Period\"))\n",
    "\n",
    "    # Plot 2: Calculate the average number of vehicles sold by vehicle type and represent as a Bar chart\n",
    "    average_sales = recession_data.groupby('Vehicle_Type')['Automobile_Sales'].mean().reset_index()\n",
    "    R_chart2 = dcc.Graph(\n",
    "        figure=px.bar(average_sales,\n",
    "                      x='Vehicle_Type', \n",
    "                      y='Automobile_Sales', \n",
    "                      title=\"Average Number of Vehicles Sold by Vehicle Type\"))\n",
    "\n",
    "    # Plot 3: Pie chart for total expenditure share by vehicle type during recessions\n",
    "    exp_rec = recession_data.groupby('Vehicle_Type')['Advertising_Expenditure'].sum().reset_index()\n",
    "    R_chart3 = dcc.Graph(\n",
    "        figure=px.pie(exp_rec,\n",
    "                      values='Advertising_Expenditure',\n",
    "                      names='Vehicle_Type',\n",
    "                      title=\"Total Expenditure Share by Vehicle Type during Recessions\"))\n",
    "\n",
    "    # Plot 4: Develop a Bar chart for the effect of unemployment rate on vehicle type and sales\n",
    "    unemployment_rate = recession_data.groupby('Vehicle_Type')['Unemployment_Rate'].mean().reset_index()\n",
    "    R_chart4 = dcc.Graph(\n",
    "        figure=px.bar(unemployment_rate, \n",
    "                      x='Vehicle_Type', \n",
    "                      y='Unemployment_Rate', \n",
    "                      title='Unemployment Rate by Vehicle Type'))\n",
    "\n",
    "    # Returning the charts\n",
    "    return html.Div([\n",
    "        html.Div(className='chart-item', children=[html.Div(children=R_chart1), html.Div(children=R_chart2)], style={'display':'flex'}),\n",
    "        html.Div(className='chart-item', children=[html.Div(children=R_chart3), html.Div(children=R_chart4)], style={'display':'flex'})\n",
    "    ])\n"
   ]
  },
  {
   "cell_type": "code",
   "execution_count": 19,
   "metadata": {},
   "outputs": [],
   "source": [
    "def some_function():\n",
    "    # Task 2.6\n",
    "    # TASK 2.6: Returning the graphs for displaying Yearly data\n",
    "    if condition:  # Replace 'condition' with the appropriate condition for your function\n",
    "        return [\n",
    "            html.Div(className='chart-item', children=[\n",
    "                html.Div(Y_chart1),\n",
    "                html.Div(Y_chart2)\n",
    "            ], style={'display': 'flex'}),\n",
    "            html.Div(className='chart-item', children=[\n",
    "                html.Div(Y_chart3),\n",
    "                html.Div(Y_chart4)\n",
    "            ], style={'display': 'flex'})\n",
    "        ]\n",
    "    else:\n",
    "        return None"
   ]
  },
  {
   "cell_type": "code",
   "execution_count": 20,
   "metadata": {},
   "outputs": [
    {
     "data": {
      "text/html": [
       "\n",
       "        <iframe\n",
       "            width=\"100%\"\n",
       "            height=\"650\"\n",
       "            src=\"http://127.0.0.1:8050/\"\n",
       "            frameborder=\"0\"\n",
       "            allowfullscreen\n",
       "            \n",
       "        ></iframe>\n",
       "        "
      ],
      "text/plain": [
       "<IPython.lib.display.IFrame at 0x112155fa0>"
      ]
     },
     "metadata": {},
     "output_type": "display_data"
    }
   ],
   "source": [
    "# Run the Dash app\n",
    "if __name__ == '__main__':\n",
    "    app.run_server(debug=True)"
   ]
  }
 ],
 "metadata": {
  "kernelspec": {
   "display_name": "Python 3",
   "language": "python",
   "name": "python3"
  },
  "language_info": {
   "codemirror_mode": {
    "name": "ipython",
    "version": 3
   },
   "file_extension": ".py",
   "mimetype": "text/x-python",
   "name": "python",
   "nbconvert_exporter": "python",
   "pygments_lexer": "ipython3",
   "version": "3.12.1"
  }
 },
 "nbformat": 4,
 "nbformat_minor": 2
}
